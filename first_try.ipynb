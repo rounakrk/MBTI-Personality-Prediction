{
 "cells": [
  {
   "cell_type": "code",
   "execution_count": 1,
   "metadata": {
    "colab": {
     "base_uri": "https://localhost:8080/",
     "height": 71
    },
    "colab_type": "code",
    "id": "X3itnRH1aFy1",
    "outputId": "66265a74-5749-40e7-ca53-bafa83c3f88f"
   },
   "outputs": [
    {
     "name": "stderr",
     "output_type": "stream",
     "text": [
      "/usr/local/lib/python3.6/dist-packages/statsmodels/tools/_testing.py:19: FutureWarning: pandas.util.testing is deprecated. Use the functions in the public API at pandas.testing instead.\n",
      "  import pandas.util.testing as tm\n"
     ]
    }
   ],
   "source": [
    "import re\n",
    "import numpy as np\n",
    "import pandas as pd\n",
    "import matplotlib.pyplot as plt\n",
    "import seaborn as sns\n",
    "import plotly.offline as py\n",
    "import plotly.graph_objs as go\n",
    "import plotly.tools as tls\n",
    "from bs4 import BeautifulSoup\n",
    "from sklearn.feature_extraction.text import TfidfVectorizer, CountVectorizer\n",
    "from sklearn.pipeline import Pipeline\n",
    "from sklearn.naive_bayes import MultinomialNB"
   ]
  },
  {
   "cell_type": "code",
   "execution_count": 3,
   "metadata": {
    "colab": {
     "base_uri": "https://localhost:8080/",
     "height": 51
    },
    "colab_type": "code",
    "id": "PidqBSV7aQ3y",
    "outputId": "ec0a8bc3-e7bd-4cf5-c896-f12cc738ccee"
   },
   "outputs": [
    {
     "name": "stdout",
     "output_type": "stream",
     "text": [
      "[nltk_data] Downloading package stopwords to /root/nltk_data...\n",
      "[nltk_data]   Unzipping corpora/stopwords.zip.\n"
     ]
    }
   ],
   "source": [
    "df = pd.read_csv('/data.csv')\n",
    "\n",
    "# Labels that need to be removed from posts\n",
    "lbl_rmv=list(df['type'].unique())\n",
    "lbl_rmv = [item.lower() for item in lbl_rmv]\n",
    "\n",
    "import nltk\n",
    "from nltk.corpus import stopwords\n",
    "nltk.download('stopwords')\n",
    "stop = stopwords.words('english')"
   ]
  },
  {
   "cell_type": "code",
   "execution_count": 4,
   "metadata": {
    "colab": {},
    "colab_type": "code",
    "id": "Q4UXZB0magpY"
   },
   "outputs": [],
   "source": [
    "from nltk.stem.porter import PorterStemmer\n",
    "\n",
    "for i in range(0,8675) :  \n",
    "    df['posts'][i] = re.sub('http[s]?://(?:[a-zA-Z]|[0-9]|[$-_@.&+]|(?:%[0-9a-fA-F][0-9a-fA-F]))+', ' ', df['posts'][i])\n",
    "    df['posts'][i] = re.sub(\"[^a-zA-Z]\", \" \", df['posts'][i])\n",
    "    df['posts'][i] = re.sub(' +', ' ', df['posts'][i]).lower()\n",
    "    for j in range(0,16):\n",
    "        df['posts'][i]=re.sub(lbl_rmv[j], ' ', df['posts'][i])\n",
    "        \n",
    "df['posts'] = df['posts'].str.strip()"
   ]
  },
  {
   "cell_type": "code",
   "execution_count": 5,
   "metadata": {
    "colab": {},
    "colab_type": "code",
    "id": "v04i8QUehRuA"
   },
   "outputs": [],
   "source": [
    "def pre_process(post):\n",
    "    posts = re.sub('\\s+', ' ', post)\n",
    "    posts = posts.lower()\n",
    "    posts = posts.split()\n",
    "    posts = [word for word in posts if not word in set(stopwords.words('english'))]\n",
    "    ps = PorterStemmer()\n",
    "    posts = [ps.stem(word) for word in posts]\n",
    "    posts = ' '.join(posts)\n",
    "    return posts\n",
    "    \n",
    "corpus = df[\"posts\"].apply(pre_process)"
   ]
  },
  {
   "cell_type": "code",
   "execution_count": 6,
   "metadata": {
    "colab": {
     "base_uri": "https://localhost:8080/",
     "height": 204
    },
    "colab_type": "code",
    "id": "6in54zjGhuAy",
    "outputId": "579237cb-0240-4a6c-d61d-875193642f36"
   },
   "outputs": [
    {
     "data": {
      "text/html": [
       "<div>\n",
       "<style scoped>\n",
       "    .dataframe tbody tr th:only-of-type {\n",
       "        vertical-align: middle;\n",
       "    }\n",
       "\n",
       "    .dataframe tbody tr th {\n",
       "        vertical-align: top;\n",
       "    }\n",
       "\n",
       "    .dataframe thead th {\n",
       "        text-align: right;\n",
       "    }\n",
       "</style>\n",
       "<table border=\"1\" class=\"dataframe\">\n",
       "  <thead>\n",
       "    <tr style=\"text-align: right;\">\n",
       "      <th></th>\n",
       "      <th>type</th>\n",
       "      <th>posts</th>\n",
       "    </tr>\n",
       "  </thead>\n",
       "  <tbody>\n",
       "    <tr>\n",
       "      <th>0</th>\n",
       "      <td>INFJ</td>\n",
       "      <td>and   moments sportscenter not top ten plays p...</td>\n",
       "    </tr>\n",
       "    <tr>\n",
       "      <th>1</th>\n",
       "      <td>ENTP</td>\n",
       "      <td>i m finding the lack of me in these posts very...</td>\n",
       "    </tr>\n",
       "    <tr>\n",
       "      <th>2</th>\n",
       "      <td>INTP</td>\n",
       "      <td>good one of course to which i say i know that ...</td>\n",
       "    </tr>\n",
       "    <tr>\n",
       "      <th>3</th>\n",
       "      <td>INTJ</td>\n",
       "      <td>dear   i enjoyed our conversation the other da...</td>\n",
       "    </tr>\n",
       "    <tr>\n",
       "      <th>4</th>\n",
       "      <td>ENTJ</td>\n",
       "      <td>you re fired that s another silly misconceptio...</td>\n",
       "    </tr>\n",
       "  </tbody>\n",
       "</table>\n",
       "</div>"
      ],
      "text/plain": [
       "   type                                              posts\n",
       "0  INFJ  and   moments sportscenter not top ten plays p...\n",
       "1  ENTP  i m finding the lack of me in these posts very...\n",
       "2  INTP  good one of course to which i say i know that ...\n",
       "3  INTJ  dear   i enjoyed our conversation the other da...\n",
       "4  ENTJ  you re fired that s another silly misconceptio..."
      ]
     },
     "execution_count": 6,
     "metadata": {
      "tags": []
     },
     "output_type": "execute_result"
    }
   ],
   "source": [
    "df.head()"
   ]
  },
  {
   "cell_type": "code",
   "execution_count": 7,
   "metadata": {
    "colab": {
     "base_uri": "https://localhost:8080/",
     "height": 221
    },
    "colab_type": "code",
    "id": "GvvxVJ5MoNvf",
    "outputId": "7f806b50-6454-4db9-873e-fb0d4cd5c3d5"
   },
   "outputs": [
    {
     "data": {
      "text/plain": [
       "0       moment sportscent top ten play prank life chan...\n",
       "1       find lack post alarm sex bore posit often exam...\n",
       "2       good one cours say know bless curs absolut pos...\n",
       "3       dear enjoy convers day esoter gab natur univer...\n",
       "4       fire anoth silli misconcept approach logic go ...\n",
       "                              ...                        \n",
       "8670    ixfp alway think cat fi dom reason especi webs...\n",
       "8671    thread alreadi exist someplac els post heck de...\n",
       "8672    mani question thing would take purpl pill pick...\n",
       "8673    conflict right come want children honestli mat...\n",
       "8674    long sinc personalitycaf although seem chang o...\n",
       "Name: posts, Length: 8675, dtype: object"
      ]
     },
     "execution_count": 7,
     "metadata": {
      "tags": []
     },
     "output_type": "execute_result"
    }
   ],
   "source": [
    "corpus"
   ]
  },
  {
   "cell_type": "code",
   "execution_count": 8,
   "metadata": {
    "colab": {
     "base_uri": "https://localhost:8080/",
     "height": 34
    },
    "colab_type": "code",
    "id": "USwkGhqIoSEi",
    "outputId": "4f2a6d51-701b-435c-a9b2-039ead7b0130"
   },
   "outputs": [
    {
     "data": {
      "text/plain": [
       "pandas.core.series.Series"
      ]
     },
     "execution_count": 8,
     "metadata": {
      "tags": []
     },
     "output_type": "execute_result"
    }
   ],
   "source": [
    "type(corpus)"
   ]
  },
  {
   "cell_type": "code",
   "execution_count": 9,
   "metadata": {
    "colab": {},
    "colab_type": "code",
    "id": "b57AtJ5kotCC"
   },
   "outputs": [],
   "source": [
    "df_new = corpus.to_frame()"
   ]
  },
  {
   "cell_type": "code",
   "execution_count": 11,
   "metadata": {
    "colab": {
     "base_uri": "https://localhost:8080/",
     "height": 204
    },
    "colab_type": "code",
    "id": "65zONxnho4fB",
    "outputId": "e79b956f-698d-4583-f02f-3be7a507845f"
   },
   "outputs": [
    {
     "data": {
      "text/html": [
       "<div>\n",
       "<style scoped>\n",
       "    .dataframe tbody tr th:only-of-type {\n",
       "        vertical-align: middle;\n",
       "    }\n",
       "\n",
       "    .dataframe tbody tr th {\n",
       "        vertical-align: top;\n",
       "    }\n",
       "\n",
       "    .dataframe thead th {\n",
       "        text-align: right;\n",
       "    }\n",
       "</style>\n",
       "<table border=\"1\" class=\"dataframe\">\n",
       "  <thead>\n",
       "    <tr style=\"text-align: right;\">\n",
       "      <th></th>\n",
       "      <th>posts</th>\n",
       "      <th>labels</th>\n",
       "    </tr>\n",
       "  </thead>\n",
       "  <tbody>\n",
       "    <tr>\n",
       "      <th>0</th>\n",
       "      <td>moment sportscent top ten play prank life chan...</td>\n",
       "      <td>INFJ</td>\n",
       "    </tr>\n",
       "    <tr>\n",
       "      <th>1</th>\n",
       "      <td>find lack post alarm sex bore posit often exam...</td>\n",
       "      <td>ENTP</td>\n",
       "    </tr>\n",
       "    <tr>\n",
       "      <th>2</th>\n",
       "      <td>good one cours say know bless curs absolut pos...</td>\n",
       "      <td>INTP</td>\n",
       "    </tr>\n",
       "    <tr>\n",
       "      <th>3</th>\n",
       "      <td>dear enjoy convers day esoter gab natur univer...</td>\n",
       "      <td>INTJ</td>\n",
       "    </tr>\n",
       "    <tr>\n",
       "      <th>4</th>\n",
       "      <td>fire anoth silli misconcept approach logic go ...</td>\n",
       "      <td>ENTJ</td>\n",
       "    </tr>\n",
       "  </tbody>\n",
       "</table>\n",
       "</div>"
      ],
      "text/plain": [
       "                                               posts labels\n",
       "0  moment sportscent top ten play prank life chan...   INFJ\n",
       "1  find lack post alarm sex bore posit often exam...   ENTP\n",
       "2  good one cours say know bless curs absolut pos...   INTP\n",
       "3  dear enjoy convers day esoter gab natur univer...   INTJ\n",
       "4  fire anoth silli misconcept approach logic go ...   ENTJ"
      ]
     },
     "execution_count": 11,
     "metadata": {
      "tags": []
     },
     "output_type": "execute_result"
    }
   ],
   "source": [
    "df_new['labels']=df['type']\n",
    "df_new.head()"
   ]
  },
  {
   "cell_type": "code",
   "execution_count": 12,
   "metadata": {
    "colab": {
     "base_uri": "https://localhost:8080/",
     "height": 170
    },
    "colab_type": "code",
    "id": "d3kTM2Cso6nZ",
    "outputId": "30be8ab4-7258-4ccf-e01b-6f4ede9aae5b"
   },
   "outputs": [
    {
     "name": "stdout",
     "output_type": "stream",
     "text": [
      "<class 'pandas.core.frame.DataFrame'>\n",
      "RangeIndex: 8675 entries, 0 to 8674\n",
      "Data columns (total 2 columns):\n",
      " #   Column  Non-Null Count  Dtype \n",
      "---  ------  --------------  ----- \n",
      " 0   posts   8675 non-null   object\n",
      " 1   labels  8675 non-null   object\n",
      "dtypes: object(2)\n",
      "memory usage: 135.7+ KB\n"
     ]
    }
   ],
   "source": [
    "df_new.info()"
   ]
  },
  {
   "cell_type": "code",
   "execution_count": 14,
   "metadata": {
    "colab": {},
    "colab_type": "code",
    "id": "mOtQKPhqpF6f"
   },
   "outputs": [],
   "source": [
    "map1 = {\"I\": 0, \"E\": 1}\n",
    "map2 = {\"N\": 0, \"S\": 1}\n",
    "map3 = {\"T\": 0, \"F\": 1}\n",
    "map4 = {\"J\": 0, \"P\": 1}\n",
    "df_new['I-E'] = df_new['labels'].astype(str).str[0]\n",
    "df_new['I-E'] = df_new['I-E'].map(map1)\n",
    "df_new['N-S'] = df_new['labels'].astype(str).str[1]\n",
    "df_new['N-S'] = df_new['N-S'].map(map2)\n",
    "df_new['T-F'] = df_new['labels'].astype(str).str[2]\n",
    "df_new['T-F'] = df_new['T-F'].map(map3)\n",
    "df_new['J-P'] = df_new['labels'].astype(str).str[3]\n",
    "df_new['J-P'] = df_new['J-P'].map(map4)"
   ]
  },
  {
   "cell_type": "code",
   "execution_count": 15,
   "metadata": {
    "colab": {
     "base_uri": "https://localhost:8080/",
     "height": 204
    },
    "colab_type": "code",
    "id": "qsAVg_chplUF",
    "outputId": "0d72fc59-2ba7-4b4d-e259-c5af661822d4"
   },
   "outputs": [
    {
     "data": {
      "text/html": [
       "<div>\n",
       "<style scoped>\n",
       "    .dataframe tbody tr th:only-of-type {\n",
       "        vertical-align: middle;\n",
       "    }\n",
       "\n",
       "    .dataframe tbody tr th {\n",
       "        vertical-align: top;\n",
       "    }\n",
       "\n",
       "    .dataframe thead th {\n",
       "        text-align: right;\n",
       "    }\n",
       "</style>\n",
       "<table border=\"1\" class=\"dataframe\">\n",
       "  <thead>\n",
       "    <tr style=\"text-align: right;\">\n",
       "      <th></th>\n",
       "      <th>posts</th>\n",
       "      <th>labels</th>\n",
       "      <th>I-E</th>\n",
       "      <th>N-S</th>\n",
       "      <th>T-F</th>\n",
       "      <th>J-P</th>\n",
       "    </tr>\n",
       "  </thead>\n",
       "  <tbody>\n",
       "    <tr>\n",
       "      <th>0</th>\n",
       "      <td>moment sportscent top ten play prank life chan...</td>\n",
       "      <td>INFJ</td>\n",
       "      <td>0</td>\n",
       "      <td>0</td>\n",
       "      <td>1</td>\n",
       "      <td>0</td>\n",
       "    </tr>\n",
       "    <tr>\n",
       "      <th>1</th>\n",
       "      <td>find lack post alarm sex bore posit often exam...</td>\n",
       "      <td>ENTP</td>\n",
       "      <td>1</td>\n",
       "      <td>0</td>\n",
       "      <td>0</td>\n",
       "      <td>1</td>\n",
       "    </tr>\n",
       "    <tr>\n",
       "      <th>2</th>\n",
       "      <td>good one cours say know bless curs absolut pos...</td>\n",
       "      <td>INTP</td>\n",
       "      <td>0</td>\n",
       "      <td>0</td>\n",
       "      <td>0</td>\n",
       "      <td>1</td>\n",
       "    </tr>\n",
       "    <tr>\n",
       "      <th>3</th>\n",
       "      <td>dear enjoy convers day esoter gab natur univer...</td>\n",
       "      <td>INTJ</td>\n",
       "      <td>0</td>\n",
       "      <td>0</td>\n",
       "      <td>0</td>\n",
       "      <td>0</td>\n",
       "    </tr>\n",
       "    <tr>\n",
       "      <th>4</th>\n",
       "      <td>fire anoth silli misconcept approach logic go ...</td>\n",
       "      <td>ENTJ</td>\n",
       "      <td>1</td>\n",
       "      <td>0</td>\n",
       "      <td>0</td>\n",
       "      <td>0</td>\n",
       "    </tr>\n",
       "  </tbody>\n",
       "</table>\n",
       "</div>"
      ],
      "text/plain": [
       "                                               posts labels  I-E  N-S  T-F  J-P\n",
       "0  moment sportscent top ten play prank life chan...   INFJ    0    0    1    0\n",
       "1  find lack post alarm sex bore posit often exam...   ENTP    1    0    0    1\n",
       "2  good one cours say know bless curs absolut pos...   INTP    0    0    0    1\n",
       "3  dear enjoy convers day esoter gab natur univer...   INTJ    0    0    0    0\n",
       "4  fire anoth silli misconcept approach logic go ...   ENTJ    1    0    0    0"
      ]
     },
     "execution_count": 15,
     "metadata": {
      "tags": []
     },
     "output_type": "execute_result"
    }
   ],
   "source": [
    "df_new.head()"
   ]
  },
  {
   "cell_type": "code",
   "execution_count": 45,
   "metadata": {
    "colab": {},
    "colab_type": "code",
    "id": "VSGkAxPzpuVZ"
   },
   "outputs": [],
   "source": [
    "from sklearn.feature_extraction.text import CountVectorizer\n",
    "cv = CountVectorizer(max_features = 2000)\n",
    "features = cv.fit_transform(df_new['posts']).toarray()\n",
    "IE = df_new.iloc[:, 2].values\n",
    "NS = df_new.iloc[:, 3].values\n",
    "TF = df_new.iloc[:, 4].values\n",
    "JP = df_new.iloc[:, 5].values"
   ]
  },
  {
   "cell_type": "code",
   "execution_count": 21,
   "metadata": {
    "colab": {},
    "colab_type": "code",
    "id": "54v-kVaPqHb1"
   },
   "outputs": [],
   "source": [
    "from sklearn.model_selection import train_test_split\n",
    "features_train, features_test, IE_train, IE_test, NS_train, NS_test, TF_train, TF_test, JP_train, JP_test = train_test_split(features, IE,NS,TF,JP, test_size = 0.20, random_state = 0)"
   ]
  },
  {
   "cell_type": "code",
   "execution_count": 22,
   "metadata": {
    "colab": {},
    "colab_type": "code",
    "id": "gWb_x0HWqK2z"
   },
   "outputs": [],
   "source": [
    "from xgboost import XGBClassifier\n",
    "\n",
    "# fit model on training data\n",
    "IEB = XGBClassifier()\n",
    "IEB.fit(features_train, IE_train)\n",
    "ieb_train=IEB.score(features_train,IE_train)\n",
    "ieb_test=IEB.score(features_test,IE_test)\n",
    "\n",
    "NSB = XGBClassifier()\n",
    "NSB.fit(features_train, NS_train)\n",
    "nsb_train=NSB.score(features_train,NS_train)\n",
    "nsb_test=NSB.score(features_test,NS_test)\n",
    "\n",
    "\n",
    "TFB = XGBClassifier()\n",
    "TFB.fit(features_train, TF_train)\n",
    "tfb_train=TFB.score(features_train,TF_train)\n",
    "tfb_test=TFB.score(features_test,TF_test)\n",
    "\n",
    "\n",
    "JPB = XGBClassifier()\n",
    "JPB.fit(features_train, JP_train)\n",
    "jpb_train=JPB.score(features_train,JP_train)\n",
    "jpb_test=JPB.score(features_test,JP_test)"
   ]
  },
  {
   "cell_type": "code",
   "execution_count": 23,
   "metadata": {
    "colab": {
     "base_uri": "https://localhost:8080/",
     "height": 153
    },
    "colab_type": "code",
    "id": "KJvrAjurq2NS",
    "outputId": "0adf740d-40ef-4b39-9d84-c168d53bc3b4"
   },
   "outputs": [
    {
     "name": "stdout",
     "output_type": "stream",
     "text": [
      "I-E train score is : 0.8096541786743516\n",
      "I-E test score is : 0.7740634005763689\n",
      "N-S train score is : 0.8661383285302594\n",
      "N-S test score is : 0.8778097982708933\n",
      "T-F train score is : 0.8239193083573487\n",
      "T-F test score is : 0.7515850144092219\n",
      "J-P train score is : 0.7438040345821325\n",
      "J-P test score is : 0.652449567723343\n"
     ]
    }
   ],
   "source": [
    "print('I-E train score is :',ieb_train)\n",
    "print('I-E test score is :',ieb_test)\n",
    "print('N-S train score is :',nsb_train)\n",
    "print('N-S test score is :',nsb_test)\n",
    "print('T-F train score is :',tfb_train)\n",
    "print('T-F test score is :',tfb_test)\n",
    "print('J-P train score is :',jpb_train)\n",
    "print('J-P test score is :',jpb_test)"
   ]
  },
  {
   "cell_type": "code",
   "execution_count": 34,
   "metadata": {
    "colab": {},
    "colab_type": "code",
    "id": "6A75ZICArh7b"
   },
   "outputs": [],
   "source": [
    "def convert(post):\n",
    "  # print(\"1=\"+post)\n",
    "\n",
    "  post = re.sub('http[s]?://(?:[a-zA-Z]|[0-9]|[$-_@.&+]|(?:%[0-9a-fA-F][0-9a-fA-F]))+', ' ', post)\n",
    "  posts = re.sub(\"[^a-zA-Z]\", \" \", post)\n",
    "  post = re.sub(' +', ' ', post).lower()\n",
    "  # print(\"2=\"+post)\n",
    "  for j in range(0,16):\n",
    "    post=re.sub(lbl_rmv[j], ' ', post)\n",
    "        \n",
    "  post = post.strip()\n",
    "  # print(\"3=\"+post)\n",
    "\n",
    "  post = re.sub('\\s+', ' ', post)\n",
    "  post = post.lower()\n",
    "  post = post.split()\n",
    "  # print(\"1=\"+post)\n",
    "  post = [word for word in post if not word in set(stopwords.words('english'))]\n",
    "  ps = PorterStemmer()\n",
    "  post = [ps.stem(word) for word in post]\n",
    "  post = ' '.join(post)\n",
    "\n",
    "  return post"
   ]
  },
  {
   "cell_type": "code",
   "execution_count": 25,
   "metadata": {
    "colab": {
     "base_uri": "https://localhost:8080/",
     "height": 235
    },
    "colab_type": "code",
    "id": "O4FcU86_trNM",
    "outputId": "071c7535-0f53-4db0-aa0d-15117803e252"
   },
   "outputs": [
    {
     "data": {
      "text/html": [
       "<div>\n",
       "<style scoped>\n",
       "    .dataframe tbody tr th:only-of-type {\n",
       "        vertical-align: middle;\n",
       "    }\n",
       "\n",
       "    .dataframe tbody tr th {\n",
       "        vertical-align: top;\n",
       "    }\n",
       "\n",
       "    .dataframe thead th {\n",
       "        text-align: right;\n",
       "    }\n",
       "</style>\n",
       "<table border=\"1\" class=\"dataframe\">\n",
       "  <thead>\n",
       "    <tr style=\"text-align: right;\">\n",
       "      <th></th>\n",
       "      <th>posts</th>\n",
       "      <th>labels</th>\n",
       "      <th>I-E</th>\n",
       "      <th>N-S</th>\n",
       "      <th>T-F</th>\n",
       "      <th>J-P</th>\n",
       "    </tr>\n",
       "  </thead>\n",
       "  <tbody>\n",
       "    <tr>\n",
       "      <th>6</th>\n",
       "      <td>draw nail haha done profession nail ye gel mea...</td>\n",
       "      <td>INFJ</td>\n",
       "      <td>0</td>\n",
       "      <td>0</td>\n",
       "      <td>1</td>\n",
       "      <td>0</td>\n",
       "    </tr>\n",
       "    <tr>\n",
       "      <th>7</th>\n",
       "      <td>tend build collect thing desktop use frequent ...</td>\n",
       "      <td>INTJ</td>\n",
       "      <td>0</td>\n",
       "      <td>0</td>\n",
       "      <td>0</td>\n",
       "      <td>0</td>\n",
       "    </tr>\n",
       "    <tr>\n",
       "      <th>8</th>\n",
       "      <td>sure good question distinct two depend percept...</td>\n",
       "      <td>INFJ</td>\n",
       "      <td>0</td>\n",
       "      <td>0</td>\n",
       "      <td>1</td>\n",
       "      <td>0</td>\n",
       "    </tr>\n",
       "    <tr>\n",
       "      <th>9</th>\n",
       "      <td>posit actual let go person due variou reason u...</td>\n",
       "      <td>INTP</td>\n",
       "      <td>0</td>\n",
       "      <td>0</td>\n",
       "      <td>0</td>\n",
       "      <td>1</td>\n",
       "    </tr>\n",
       "    <tr>\n",
       "      <th>10</th>\n",
       "      <td>one time parent fight dad affair dad push mom ...</td>\n",
       "      <td>INFJ</td>\n",
       "      <td>0</td>\n",
       "      <td>0</td>\n",
       "      <td>1</td>\n",
       "      <td>0</td>\n",
       "    </tr>\n",
       "    <tr>\n",
       "      <th>11</th>\n",
       "      <td>went break month ago togeth year plan life aro...</td>\n",
       "      <td>ENFJ</td>\n",
       "      <td>1</td>\n",
       "      <td>0</td>\n",
       "      <td>1</td>\n",
       "      <td>0</td>\n",
       "    </tr>\n",
       "  </tbody>\n",
       "</table>\n",
       "</div>"
      ],
      "text/plain": [
       "                                                posts labels  ...  T-F  J-P\n",
       "6   draw nail haha done profession nail ye gel mea...   INFJ  ...    1    0\n",
       "7   tend build collect thing desktop use frequent ...   INTJ  ...    0    0\n",
       "8   sure good question distinct two depend percept...   INFJ  ...    1    0\n",
       "9   posit actual let go person due variou reason u...   INTP  ...    0    1\n",
       "10  one time parent fight dad affair dad push mom ...   INFJ  ...    1    0\n",
       "11  went break month ago togeth year plan life aro...   ENFJ  ...    1    0\n",
       "\n",
       "[6 rows x 6 columns]"
      ]
     },
     "execution_count": 25,
     "metadata": {
      "tags": []
     },
     "output_type": "execute_result"
    }
   ],
   "source": [
    "df_new.iloc[6:12,:]"
   ]
  },
  {
   "cell_type": "code",
   "execution_count": 47,
   "metadata": {
    "colab": {},
    "colab_type": "code",
    "id": "AJoFDWVRt2ea"
   },
   "outputs": [],
   "source": [
    "post = df['posts'][8]"
   ]
  },
  {
   "cell_type": "code",
   "execution_count": 48,
   "metadata": {
    "colab": {},
    "colab_type": "code",
    "id": "NRaNAiWYuBtt"
   },
   "outputs": [],
   "source": [
    "post = convert(post)\n",
    "post = cv.transform([post]).toarray()"
   ]
  },
  {
   "cell_type": "code",
   "execution_count": 49,
   "metadata": {
    "colab": {
     "base_uri": "https://localhost:8080/",
     "height": 34
    },
    "colab_type": "code",
    "id": "ACokVp9MuCi1",
    "outputId": "bce1f8e2-7001-4cba-c713-83f1b4635f3c"
   },
   "outputs": [
    {
     "data": {
      "text/plain": [
       "array([[0, 0, 0, ..., 0, 0, 0]])"
      ]
     },
     "execution_count": 49,
     "metadata": {
      "tags": []
     },
     "output_type": "execute_result"
    }
   ],
   "source": [
    "post"
   ]
  },
  {
   "cell_type": "code",
   "execution_count": 50,
   "metadata": {
    "colab": {
     "base_uri": "https://localhost:8080/",
     "height": 34
    },
    "colab_type": "code",
    "id": "CG5X4Vgfu4xh",
    "outputId": "30c375cc-642a-4d34-b7a5-5f9440605d93"
   },
   "outputs": [
    {
     "data": {
      "text/plain": [
       "array([0])"
      ]
     },
     "execution_count": 50,
     "metadata": {
      "tags": []
     },
     "output_type": "execute_result"
    }
   ],
   "source": [
    "IEB.predict(post)"
   ]
  },
  {
   "cell_type": "code",
   "execution_count": 51,
   "metadata": {
    "colab": {
     "base_uri": "https://localhost:8080/",
     "height": 34
    },
    "colab_type": "code",
    "id": "EwOg7px_yKLt",
    "outputId": "fe573dde-b8d0-4f1c-ea75-e5cfe591b6a8"
   },
   "outputs": [
    {
     "data": {
      "text/plain": [
       "array([1])"
      ]
     },
     "execution_count": 51,
     "metadata": {
      "tags": []
     },
     "output_type": "execute_result"
    }
   ],
   "source": [
    "JPB.predict(post)"
   ]
  },
  {
   "cell_type": "code",
   "execution_count": 52,
   "metadata": {
    "colab": {
     "base_uri": "https://localhost:8080/",
     "height": 34
    },
    "colab_type": "code",
    "id": "hXfx5r5iyqub",
    "outputId": "cccad050-d93a-4b3c-e64f-ef672cd9b5b7"
   },
   "outputs": [
    {
     "data": {
      "text/plain": [
       "array([1])"
      ]
     },
     "execution_count": 52,
     "metadata": {
      "tags": []
     },
     "output_type": "execute_result"
    }
   ],
   "source": [
    "TFB.predict(post)"
   ]
  },
  {
   "cell_type": "code",
   "execution_count": 53,
   "metadata": {
    "colab": {
     "base_uri": "https://localhost:8080/",
     "height": 34
    },
    "colab_type": "code",
    "id": "n3BEJ7xFyyVQ",
    "outputId": "3110e14e-ed5c-45a2-fda2-fb8aceb22b63"
   },
   "outputs": [
    {
     "data": {
      "text/plain": [
       "array([0])"
      ]
     },
     "execution_count": 53,
     "metadata": {
      "tags": []
     },
     "output_type": "execute_result"
    }
   ],
   "source": [
    "NSB.predict(post)"
   ]
  },
  {
   "cell_type": "code",
   "execution_count": null,
   "metadata": {
    "colab": {},
    "colab_type": "code",
    "id": "T9toBRMPyzuh"
   },
   "outputs": [],
   "source": []
  }
 ],
 "metadata": {
  "accelerator": "TPU",
  "colab": {
   "name": "first_try.ipynb",
   "provenance": []
  },
  "kernelspec": {
   "display_name": "Python 3",
   "language": "python",
   "name": "python3"
  },
  "language_info": {
   "codemirror_mode": {
    "name": "ipython",
    "version": 3
   },
   "file_extension": ".py",
   "mimetype": "text/x-python",
   "name": "python",
   "nbconvert_exporter": "python",
   "pygments_lexer": "ipython3",
   "version": "3.6.10"
  }
 },
 "nbformat": 4,
 "nbformat_minor": 1
}
